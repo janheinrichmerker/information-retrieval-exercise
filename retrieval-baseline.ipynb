{
 "cells": [
  {
   "cell_type": "markdown",
   "metadata": {},
   "source": [
    "# Information Retrieval Lab WiSe 2024/2025: Baseline Retrieval System\n",
    "\n",
    "This Jupyter notebook serves as a baseline retrieval system that you can improve upon.\n",
    "We use subsets of the MS MARCO datasets to retrieve passages of web documents.\n",
    "We will show you how to create a software submission to TIRA from this notebook.\n",
    "\n",
    "An overview of all corpora that we use in the current course is available at [https://tira.io/datasets?query=ir-lab-wise-2024](https://tira.io/datasets?query=ir-lab-wise-2024). The dataset IDs for loading the datasets are:\n",
    "\n",
    "- `ir-lab-wise-2024/subsampled-ms-marco-deep-learning-20241201-training`: A subsample of the TREC 2019/2020 Deep Learning tracks on the MS MARCO v1 passage dataset. Use this dataset to tune your system(s).\n",
    "- `ir-lab-wise-2024/subsampled-ms-marco-rag-20250105-training`: A subsample of the 2024 TREC RAG track on the MS MARCO v2.1 passage dataset. You can use this dataset to develop your system.\n",
    "- `ir-lab-wise-2024/subsampled-ms-marco-ir-lab-20250105-test`: The test corpus that we all developed together throughout the course on the MS MARCO v2.1 passage dataset. This dataset is the final test dataset, i.e., evaluation scores become available only after the submission deadline."
   ]
  },
  {
   "cell_type": "markdown",
   "metadata": {},
   "source": [
    "### Step 1: Import libraries\n",
    "\n",
    "We will use [tira](https://tira.io/), an information retrieval shared task platform, and [ir_dataset](https://ir-datasets.com/) for loading the datasets. Subsequently, we will build a retrieval system with [PyTerrier](https://github.com/terrier-org/pyterrier), an open-source search engine framework."
   ]
  },
  {
   "cell_type": "markdown",
   "metadata": {},
   "source": [
    "First, we need to install the required libraries."
   ]
  },
  {
   "cell_type": "code",
   "execution_count": 1,
   "metadata": {},
   "outputs": [
    {
     "name": "stdout",
     "output_type": "stream",
     "text": [
      "Requirement already satisfied: tira>=0.0.141 in ./venv/lib/python3.12/site-packages (0.0.141)\n",
      "Requirement already satisfied: ir-datasets in ./venv/lib/python3.12/site-packages (0.5.9)\n",
      "Collecting python-terrier==0.10.0\n",
      "  Downloading python-terrier-0.10.0.tar.gz (107 kB)\n",
      "\u001b[2K     \u001b[90m━━━━━━━━━━━━━━━━━━━━━━━━━━━━━━━━━━━━━━━\u001b[0m \u001b[32m107.6/107.6 kB\u001b[0m \u001b[31m1.8 MB/s\u001b[0m eta \u001b[36m0:00:00\u001b[0ma \u001b[36m0:00:01\u001b[0m\n",
      "\u001b[?25h  Installing build dependencies ... \u001b[?25ldone\n",
      "\u001b[?25h  Getting requirements to build wheel ... \u001b[?25ldone\n",
      "\u001b[?25h  Preparing metadata (pyproject.toml) ... \u001b[?25ldone\n",
      "\u001b[?25hRequirement already satisfied: numpy in ./venv/lib/python3.12/site-packages (from python-terrier==0.10.0) (1.26.4)\n",
      "Requirement already satisfied: pandas in ./venv/lib/python3.12/site-packages (from python-terrier==0.10.0) (2.2.3)\n",
      "Requirement already satisfied: wget in ./venv/lib/python3.12/site-packages (from python-terrier==0.10.0) (3.2)\n",
      "Requirement already satisfied: tqdm in ./venv/lib/python3.12/site-packages (from python-terrier==0.10.0) (4.67.1)\n",
      "Requirement already satisfied: pyjnius>=1.4.2 in ./venv/lib/python3.12/site-packages (from python-terrier==0.10.0) (1.6.1)\n",
      "Collecting matchpy (from python-terrier==0.10.0)\n",
      "  Using cached matchpy-0.5.5-py3-none-any.whl.metadata (12 kB)\n",
      "Collecting scikit-learn (from python-terrier==0.10.0)\n",
      "  Downloading scikit_learn-1.6.0-cp312-cp312-manylinux_2_17_x86_64.manylinux2014_x86_64.whl.metadata (18 kB)\n",
      "Requirement already satisfied: deprecated in ./venv/lib/python3.12/site-packages (from python-terrier==0.10.0) (1.2.15)\n",
      "Requirement already satisfied: chest in ./venv/lib/python3.12/site-packages (from python-terrier==0.10.0) (0.2.3)\n",
      "Requirement already satisfied: scipy in ./venv/lib/python3.12/site-packages (from python-terrier==0.10.0) (1.15.0)\n",
      "Requirement already satisfied: requests in ./venv/lib/python3.12/site-packages (from python-terrier==0.10.0) (2.32.3)\n",
      "Requirement already satisfied: joblib in ./venv/lib/python3.12/site-packages (from python-terrier==0.10.0) (1.4.2)\n",
      "Collecting nptyping==1.4.4 (from python-terrier==0.10.0)\n",
      "  Using cached nptyping-1.4.4-py3-none-any.whl.metadata (7.7 kB)\n",
      "Requirement already satisfied: more_itertools in ./venv/lib/python3.12/site-packages (from python-terrier==0.10.0) (10.5.0)\n",
      "Requirement already satisfied: jinja2 in ./venv/lib/python3.12/site-packages (from python-terrier==0.10.0) (3.1.5)\n",
      "Requirement already satisfied: statsmodels in ./venv/lib/python3.12/site-packages (from python-terrier==0.10.0) (0.14.4)\n",
      "Requirement already satisfied: ir_measures>=0.3.1 in ./venv/lib/python3.12/site-packages (from python-terrier==0.10.0) (0.3.6)\n",
      "Requirement already satisfied: dill in ./venv/lib/python3.12/site-packages (from python-terrier==0.10.0) (0.3.9)\n",
      "Requirement already satisfied: pytrec_eval_terrier>=0.5.3 in ./venv/lib/python3.12/site-packages (from python-terrier==0.10.0) (0.5.6)\n",
      "Collecting typish>=1.7.0 (from nptyping==1.4.4->python-terrier==0.10.0)\n",
      "  Using cached typish-1.9.3-py3-none-any.whl.metadata (7.2 kB)\n",
      "Requirement already satisfied: docker==7.*,>=7.1.0 in ./venv/lib/python3.12/site-packages (from tira>=0.0.141) (7.1.0)\n",
      "Requirement already satisfied: packaging in ./venv/lib/python3.12/site-packages (from tira>=0.0.141) (24.2)\n",
      "Requirement already satisfied: urllib3>=1.26.0 in ./venv/lib/python3.12/site-packages (from docker==7.*,>=7.1.0->tira>=0.0.141) (2.3.0)\n",
      "Requirement already satisfied: charset-normalizer<4,>=2 in ./venv/lib/python3.12/site-packages (from requests->python-terrier==0.10.0) (3.4.1)\n",
      "Requirement already satisfied: idna<4,>=2.5 in ./venv/lib/python3.12/site-packages (from requests->python-terrier==0.10.0) (3.10)\n",
      "Requirement already satisfied: certifi>=2017.4.17 in ./venv/lib/python3.12/site-packages (from requests->python-terrier==0.10.0) (2024.12.14)\n",
      "Requirement already satisfied: beautifulsoup4>=4.4.1 in ./venv/lib/python3.12/site-packages (from ir-datasets) (4.12.3)\n",
      "Requirement already satisfied: inscriptis>=2.2.0 in ./venv/lib/python3.12/site-packages (from ir-datasets) (2.5.0)\n",
      "Requirement already satisfied: lxml>=4.5.2 in ./venv/lib/python3.12/site-packages (from ir-datasets) (5.3.0)\n",
      "Requirement already satisfied: pyyaml>=5.3.1 in ./venv/lib/python3.12/site-packages (from ir-datasets) (6.0.2)\n",
      "Requirement already satisfied: trec-car-tools>=2.5.4 in ./venv/lib/python3.12/site-packages (from ir-datasets) (2.6)\n",
      "Requirement already satisfied: lz4>=3.1.10 in ./venv/lib/python3.12/site-packages (from ir-datasets) (4.3.3)\n",
      "Requirement already satisfied: warc3-wet>=0.2.3 in ./venv/lib/python3.12/site-packages (from ir-datasets) (0.2.5)\n",
      "Requirement already satisfied: warc3-wet-clueweb09>=0.2.5 in ./venv/lib/python3.12/site-packages (from ir-datasets) (0.2.5)\n",
      "Requirement already satisfied: zlib-state>=0.1.3 in ./venv/lib/python3.12/site-packages (from ir-datasets) (0.1.9)\n",
      "Requirement already satisfied: ijson>=3.1.3 in ./venv/lib/python3.12/site-packages (from ir-datasets) (3.3.0)\n",
      "Requirement already satisfied: unlzw3>=0.2.1 in ./venv/lib/python3.12/site-packages (from ir-datasets) (0.2.3)\n",
      "Requirement already satisfied: soupsieve>1.2 in ./venv/lib/python3.12/site-packages (from beautifulsoup4>=4.4.1->ir-datasets) (2.6)\n",
      "Requirement already satisfied: cbor>=1.0.0 in ./venv/lib/python3.12/site-packages (from trec-car-tools>=2.5.4->ir-datasets) (1.0.0)\n",
      "Requirement already satisfied: heapdict in ./venv/lib/python3.12/site-packages (from chest->python-terrier==0.10.0) (1.0.1)\n",
      "Requirement already satisfied: wrapt<2,>=1.10 in ./venv/lib/python3.12/site-packages (from deprecated->python-terrier==0.10.0) (1.17.0)\n",
      "Requirement already satisfied: MarkupSafe>=2.0 in ./venv/lib/python3.12/site-packages (from jinja2->python-terrier==0.10.0) (3.0.2)\n",
      "Collecting multiset<3.0,>=2.0 (from matchpy->python-terrier==0.10.0)\n",
      "  Using cached multiset-2.1.1-py2.py3-none-any.whl.metadata (3.8 kB)\n",
      "Requirement already satisfied: python-dateutil>=2.8.2 in ./venv/lib/python3.12/site-packages (from pandas->python-terrier==0.10.0) (2.9.0.post0)\n",
      "Requirement already satisfied: pytz>=2020.1 in ./venv/lib/python3.12/site-packages (from pandas->python-terrier==0.10.0) (2024.2)\n",
      "Requirement already satisfied: tzdata>=2022.7 in ./venv/lib/python3.12/site-packages (from pandas->python-terrier==0.10.0) (2024.2)\n",
      "Collecting threadpoolctl>=3.1.0 (from scikit-learn->python-terrier==0.10.0)\n",
      "  Using cached threadpoolctl-3.5.0-py3-none-any.whl.metadata (13 kB)\n",
      "Requirement already satisfied: patsy>=0.5.6 in ./venv/lib/python3.12/site-packages (from statsmodels->python-terrier==0.10.0) (1.0.1)\n",
      "Requirement already satisfied: six>=1.5 in ./venv/lib/python3.12/site-packages (from python-dateutil>=2.8.2->pandas->python-terrier==0.10.0) (1.17.0)\n",
      "Using cached nptyping-1.4.4-py3-none-any.whl (31 kB)\n",
      "Using cached matchpy-0.5.5-py3-none-any.whl (69 kB)\n",
      "Downloading scikit_learn-1.6.0-cp312-cp312-manylinux_2_17_x86_64.manylinux2014_x86_64.whl (13.1 MB)\n",
      "\u001b[2K   \u001b[90m━━━━━━━━━━━━━━━━━━━━━━━━━━━━━━━━━━━━━━━━\u001b[0m \u001b[32m13.1/13.1 MB\u001b[0m \u001b[31m32.2 MB/s\u001b[0m eta \u001b[36m0:00:00\u001b[0m00:01\u001b[0m00:01\u001b[0m\n",
      "\u001b[?25hUsing cached multiset-2.1.1-py2.py3-none-any.whl (8.8 kB)\n",
      "Using cached threadpoolctl-3.5.0-py3-none-any.whl (18 kB)\n",
      "Using cached typish-1.9.3-py3-none-any.whl (45 kB)\n",
      "Building wheels for collected packages: python-terrier\n",
      "  Building wheel for python-terrier (pyproject.toml) ... \u001b[?25ldone\n",
      "\u001b[?25h  Created wheel for python-terrier: filename=python_terrier-0.10.0-py3-none-any.whl size=115532 sha256=389de368b5b43edc0b1b9d5ff617067b9bb9c83c645a7532f5c655e7117a8f4a\n",
      "  Stored in directory: /home/heinrich/.cache/pip/wheels/63/f2/a3/db0cea497d7fa7a32950e636404011bc7dc4d5a98acfc72511\n",
      "Successfully built python-terrier\n",
      "Installing collected packages: typish, multiset, threadpoolctl, nptyping, matchpy, scikit-learn, python-terrier\n",
      "  Attempting uninstall: python-terrier\n",
      "    Found existing installation: python-terrier 0.12.1\n",
      "    Uninstalling python-terrier-0.12.1:\n",
      "      Successfully uninstalled python-terrier-0.12.1\n",
      "Successfully installed matchpy-0.5.5 multiset-2.1.1 nptyping-1.4.4 python-terrier-0.10.0 scikit-learn-1.6.0 threadpoolctl-3.5.0 typish-1.9.3\n"
     ]
    }
   ],
   "source": [
    "!pip3 install 'tira>=0.0.141' ir-datasets 'python-terrier==0.10.0'"
   ]
  },
  {
   "cell_type": "markdown",
   "metadata": {},
   "source": [
    "Create an API client to interact with the TIRA platform (e.g., to load datasets and submit runs)."
   ]
  },
  {
   "cell_type": "code",
   "execution_count": 2,
   "metadata": {},
   "outputs": [
    {
     "name": "stdout",
     "output_type": "stream",
     "text": [
      "terrier-assemblies 5.7 jar-with-dependencies not found, downloading to /home/heinrich/.pyterrier...\n",
      "Done\n",
      "terrier-python-helper 0.0.7 jar not found, downloading to /home/heinrich/.pyterrier...\n",
      "Done\n"
     ]
    },
    {
     "name": "stderr",
     "output_type": "stream",
     "text": [
      "PyTerrier 0.10.0 has loaded Terrier 5.7 (built by craigm on 2022-11-10 18:30) and terrier-helper 0.0.7\n",
      "\n",
      "No etc/terrier.properties, using terrier.default.properties for bootstrap configuration.\n"
     ]
    }
   ],
   "source": [
    "from tira.third_party_integrations import ensure_pyterrier_is_loaded\n",
    "from tira.rest_api_client import Client\n",
    "\n",
    "ensure_pyterrier_is_loaded()\n",
    "tira = Client()"
   ]
  },
  {
   "cell_type": "markdown",
   "metadata": {},
   "source": [
    "### Step 2: Load the dataset\n",
    "\n",
    "We load the dataset by its ir_datasets ID (as listed in the Readme). Just be sure to add the `irds:` prefix before the dataset ID to tell PyTerrier to load the data from ir_datasets."
   ]
  },
  {
   "cell_type": "code",
   "execution_count": 19,
   "metadata": {},
   "outputs": [],
   "source": [
    "from pyterrier import get_dataset\n",
    "\n",
    "pt_dataset = get_dataset('irds:ir-lab-wise-2024/subsampled-ms-marco-deep-learning-20241201-training')\n",
    "# pt_dataset = get_dataset('irds:ir-lab-wise-2024/subsampled-ms-marco-rag-20250105-training')\n",
    "# pt_dataset = get_dataset('irds:ir-lab-wise-2024/subsampled-ms-marco-ir-lab-20250105-test')"
   ]
  },
  {
   "cell_type": "markdown",
   "metadata": {},
   "source": [
    "### Step 3: Build an index\n",
    "\n",
    "We will then create an index from the documents in the dataset we just loaded."
   ]
  },
  {
   "cell_type": "code",
   "execution_count": 20,
   "metadata": {},
   "outputs": [
    {
     "name": "stdout",
     "output_type": "stream",
     "text": [
      "Download from Zenodo: https://zenodo.org/records/14602253/files/subsampled-ms-marco-ir-lab-20250105-test-inputs.zip\n"
     ]
    },
    {
     "name": "stderr",
     "output_type": "stream",
     "text": [
      "Download: 100%|██████████| 106M/106M [00:20<00:00, 5.56MiB/s] \n"
     ]
    },
    {
     "name": "stdout",
     "output_type": "stream",
     "text": [
      "Download finished. Extract...\n",
      "Extraction finished:  /home/heinrich/.tira/extracted_datasets/ir-lab-wise-2024/subsampled-ms-marco-ir-lab-20250105-test/\n"
     ]
    },
    {
     "name": "stderr",
     "output_type": "stream",
     "text": [
      "ir-lab-wise-2024/subsampled-ms-marco-ir-lab-20250105-test documents: 100%|██████████| 125112/125112 [01:27<00:00, 1433.04it/s]\n"
     ]
    }
   ],
   "source": [
    "from pyterrier import IterDictIndexer\n",
    "\n",
    "indexer = IterDictIndexer(\n",
    "    # Store the index in the `index` directory.\n",
    "    \"../data/index\",\n",
    "    meta={'docno': 50, 'text': 4096},\n",
    "    # If an index already exists there, then overwrite it.\n",
    "    overwrite=True,\n",
    ")\n",
    "index = indexer.index(pt_dataset.get_corpus_iter())"
   ]
  },
  {
   "cell_type": "markdown",
   "metadata": {},
   "source": [
    "### Step 4: Define the retrieval pipeline\n",
    "\n",
    "We will define a simple retrieval pipeline using just BM25 as a baseline. For details, refer to the PyTerrier [documentation](https://pyterrier.readthedocs.io) or [tutorial](https://github.com/terrier-org/ecir2021tutorial)."
   ]
  },
  {
   "cell_type": "code",
   "execution_count": 21,
   "metadata": {},
   "outputs": [],
   "source": [
    "from pyterrier import BatchRetrieve\n",
    "\n",
    "bm25 = BatchRetrieve(index, wmodel=\"BM25\")"
   ]
  },
  {
   "cell_type": "markdown",
   "metadata": {},
   "source": [
    "### Step 5: Create the run\n",
    "In the next steps, we would like to apply our retrieval system to some topics, to prepare a 'run' file, containing the retrieved documents."
   ]
  },
  {
   "cell_type": "markdown",
   "metadata": {},
   "source": [
    "First, let's have a short look at the first three topics:"
   ]
  },
  {
   "cell_type": "code",
   "execution_count": 22,
   "metadata": {},
   "outputs": [
    {
     "name": "stdout",
     "output_type": "stream",
     "text": [
      "Download from Zenodo: https://zenodo.org/records/14602253/files/subsampled-ms-marco-ir-lab-20250105-test-truths.zip\n"
     ]
    },
    {
     "name": "stderr",
     "output_type": "stream",
     "text": [
      "Download: 100%|██████████| 12.5k/12.5k [00:00<00:00, 1.89MiB/s]"
     ]
    },
    {
     "name": "stdout",
     "output_type": "stream",
     "text": [
      "Download finished. Extract...\n",
      "Extraction finished:  /home/heinrich/.tira/extracted_datasets/ir-lab-wise-2024/subsampled-ms-marco-ir-lab-20250105-test/\n"
     ]
    },
    {
     "name": "stderr",
     "output_type": "stream",
     "text": [
      "\n"
     ]
    },
    {
     "data": {
      "text/html": [
       "<div>\n",
       "<style scoped>\n",
       "    .dataframe tbody tr th:only-of-type {\n",
       "        vertical-align: middle;\n",
       "    }\n",
       "\n",
       "    .dataframe tbody tr th {\n",
       "        vertical-align: top;\n",
       "    }\n",
       "\n",
       "    .dataframe thead th {\n",
       "        text-align: right;\n",
       "    }\n",
       "</style>\n",
       "<table border=\"1\" class=\"dataframe\">\n",
       "  <thead>\n",
       "    <tr style=\"text-align: right;\">\n",
       "      <th></th>\n",
       "      <th>qid</th>\n",
       "      <th>query</th>\n",
       "    </tr>\n",
       "  </thead>\n",
       "  <tbody>\n",
       "    <tr>\n",
       "      <th>0</th>\n",
       "      <td>34</td>\n",
       "      <td>latex color box</td>\n",
       "    </tr>\n",
       "    <tr>\n",
       "      <th>1</th>\n",
       "      <td>39</td>\n",
       "      <td>technology behind fpv drones</td>\n",
       "    </tr>\n",
       "    <tr>\n",
       "      <th>2</th>\n",
       "      <td>41</td>\n",
       "      <td>eco friendly logistics solutions for green pro...</td>\n",
       "    </tr>\n",
       "  </tbody>\n",
       "</table>\n",
       "</div>"
      ],
      "text/plain": [
       "  qid                                              query\n",
       "0  34                                    latex color box\n",
       "1  39                       technology behind fpv drones\n",
       "2  41  eco friendly logistics solutions for green pro..."
      ]
     },
     "execution_count": 22,
     "metadata": {},
     "output_type": "execute_result"
    }
   ],
   "source": [
    "# The `'text'` argument below selects the topics `text` field as the query.\n",
    "pt_dataset.get_topics('text').head(3)"
   ]
  },
  {
   "cell_type": "markdown",
   "metadata": {},
   "source": [
    "Now, retrieve results for all the topics (may take a while):"
   ]
  },
  {
   "cell_type": "code",
   "execution_count": 23,
   "metadata": {},
   "outputs": [],
   "source": [
    "run = bm25(pt_dataset.get_topics('text'))"
   ]
  },
  {
   "cell_type": "markdown",
   "metadata": {},
   "source": [
    "That's it for the retrieval. Here are the first 10 entries of the run:"
   ]
  },
  {
   "cell_type": "code",
   "execution_count": 24,
   "metadata": {},
   "outputs": [
    {
     "data": {
      "text/html": [
       "<div>\n",
       "<style scoped>\n",
       "    .dataframe tbody tr th:only-of-type {\n",
       "        vertical-align: middle;\n",
       "    }\n",
       "\n",
       "    .dataframe tbody tr th {\n",
       "        vertical-align: top;\n",
       "    }\n",
       "\n",
       "    .dataframe thead th {\n",
       "        text-align: right;\n",
       "    }\n",
       "</style>\n",
       "<table border=\"1\" class=\"dataframe\">\n",
       "  <thead>\n",
       "    <tr style=\"text-align: right;\">\n",
       "      <th></th>\n",
       "      <th>qid</th>\n",
       "      <th>docid</th>\n",
       "      <th>docno</th>\n",
       "      <th>rank</th>\n",
       "      <th>score</th>\n",
       "      <th>query</th>\n",
       "    </tr>\n",
       "  </thead>\n",
       "  <tbody>\n",
       "    <tr>\n",
       "      <th>0</th>\n",
       "      <td>34</td>\n",
       "      <td>37054</td>\n",
       "      <td>msmarco_v2.1_doc_00_559772133#2_1023411002</td>\n",
       "      <td>0</td>\n",
       "      <td>24.336448</td>\n",
       "      <td>latex color box</td>\n",
       "    </tr>\n",
       "    <tr>\n",
       "      <th>1</th>\n",
       "      <td>34</td>\n",
       "      <td>21521</td>\n",
       "      <td>msmarco_v2.1_doc_41_700042731#8_1496549190</td>\n",
       "      <td>1</td>\n",
       "      <td>24.134513</td>\n",
       "      <td>latex color box</td>\n",
       "    </tr>\n",
       "    <tr>\n",
       "      <th>2</th>\n",
       "      <td>34</td>\n",
       "      <td>9418</td>\n",
       "      <td>msmarco_v2.1_doc_00_559772133#3_1023412049</td>\n",
       "      <td>2</td>\n",
       "      <td>23.650914</td>\n",
       "      <td>latex color box</td>\n",
       "    </tr>\n",
       "    <tr>\n",
       "      <th>3</th>\n",
       "      <td>34</td>\n",
       "      <td>31673</td>\n",
       "      <td>msmarco_v2.1_doc_51_461434843#3_944006293</td>\n",
       "      <td>3</td>\n",
       "      <td>23.610725</td>\n",
       "      <td>latex color box</td>\n",
       "    </tr>\n",
       "    <tr>\n",
       "      <th>4</th>\n",
       "      <td>34</td>\n",
       "      <td>42698</td>\n",
       "      <td>msmarco_v2.1_doc_41_700042731#7_1496547286</td>\n",
       "      <td>4</td>\n",
       "      <td>23.593970</td>\n",
       "      <td>latex color box</td>\n",
       "    </tr>\n",
       "    <tr>\n",
       "      <th>5</th>\n",
       "      <td>34</td>\n",
       "      <td>27794</td>\n",
       "      <td>msmarco_v2.1_doc_51_461434843#2_944004995</td>\n",
       "      <td>5</td>\n",
       "      <td>23.439174</td>\n",
       "      <td>latex color box</td>\n",
       "    </tr>\n",
       "    <tr>\n",
       "      <th>6</th>\n",
       "      <td>34</td>\n",
       "      <td>23212</td>\n",
       "      <td>msmarco_v2.1_doc_41_700033541#1_1496515805</td>\n",
       "      <td>6</td>\n",
       "      <td>23.395326</td>\n",
       "      <td>latex color box</td>\n",
       "    </tr>\n",
       "    <tr>\n",
       "      <th>7</th>\n",
       "      <td>34</td>\n",
       "      <td>12541</td>\n",
       "      <td>msmarco_v2.1_doc_50_674652070#3_1371739662</td>\n",
       "      <td>7</td>\n",
       "      <td>23.286553</td>\n",
       "      <td>latex color box</td>\n",
       "    </tr>\n",
       "    <tr>\n",
       "      <th>8</th>\n",
       "      <td>34</td>\n",
       "      <td>24739</td>\n",
       "      <td>msmarco_v2.1_doc_20_1217204421#4_2676012792</td>\n",
       "      <td>8</td>\n",
       "      <td>23.181642</td>\n",
       "      <td>latex color box</td>\n",
       "    </tr>\n",
       "    <tr>\n",
       "      <th>9</th>\n",
       "      <td>34</td>\n",
       "      <td>11566</td>\n",
       "      <td>msmarco_v2.1_doc_39_941719527#3_1917293465</td>\n",
       "      <td>9</td>\n",
       "      <td>23.172034</td>\n",
       "      <td>latex color box</td>\n",
       "    </tr>\n",
       "  </tbody>\n",
       "</table>\n",
       "</div>"
      ],
      "text/plain": [
       "  qid  docid                                        docno  rank      score  \\\n",
       "0  34  37054   msmarco_v2.1_doc_00_559772133#2_1023411002     0  24.336448   \n",
       "1  34  21521   msmarco_v2.1_doc_41_700042731#8_1496549190     1  24.134513   \n",
       "2  34   9418   msmarco_v2.1_doc_00_559772133#3_1023412049     2  23.650914   \n",
       "3  34  31673    msmarco_v2.1_doc_51_461434843#3_944006293     3  23.610725   \n",
       "4  34  42698   msmarco_v2.1_doc_41_700042731#7_1496547286     4  23.593970   \n",
       "5  34  27794    msmarco_v2.1_doc_51_461434843#2_944004995     5  23.439174   \n",
       "6  34  23212   msmarco_v2.1_doc_41_700033541#1_1496515805     6  23.395326   \n",
       "7  34  12541   msmarco_v2.1_doc_50_674652070#3_1371739662     7  23.286553   \n",
       "8  34  24739  msmarco_v2.1_doc_20_1217204421#4_2676012792     8  23.181642   \n",
       "9  34  11566   msmarco_v2.1_doc_39_941719527#3_1917293465     9  23.172034   \n",
       "\n",
       "             query  \n",
       "0  latex color box  \n",
       "1  latex color box  \n",
       "2  latex color box  \n",
       "3  latex color box  \n",
       "4  latex color box  \n",
       "5  latex color box  \n",
       "6  latex color box  \n",
       "7  latex color box  \n",
       "8  latex color box  \n",
       "9  latex color box  "
      ]
     },
     "execution_count": 24,
     "metadata": {},
     "output_type": "execute_result"
    }
   ],
   "source": [
    "run.head(10)"
   ]
  },
  {
   "cell_type": "markdown",
   "metadata": {},
   "source": [
    "### Step 6: Persist and upload run to TIRA\n",
    "\n",
    "The output of our retrieval system is a run file. This run file can later (and, e.g., in a different notebook or by a different person) be statistically evaluated. We will therefore first upload the run to TIRA."
   ]
  },
  {
   "cell_type": "code",
   "execution_count": 25,
   "metadata": {},
   "outputs": [
    {
     "name": "stdout",
     "output_type": "stream",
     "text": [
      "The run file is normalized outside the TIRA sandbox, I will store it at \"data/runs\".\n",
      "Done. run file is stored under \"data/runs/run.txt.gz\".\n",
      "Run uploaded to TIRA. Claim ownership via: https://www.tira.io/claim-submission/4f8cc0e7-3feb-4934-bdfe-888ab5d8fdd8\n"
     ]
    }
   ],
   "source": [
    "from tira.third_party_integrations import persist_and_normalize_run\n",
    "\n",
    "persist_and_normalize_run(\n",
    "    run,\n",
    "    # Give your approach a short but descriptive name tag.\n",
    "    system_name='bm25-baseline', \n",
    "    default_output='data/runs',\n",
    "    upload_to_tira=pt_dataset,\n",
    ")"
   ]
  },
  {
   "cell_type": "markdown",
   "metadata": {},
   "source": [
    "Click on the link in the cell output above to claim your submission on TIRA."
   ]
  },
  {
   "cell_type": "code",
   "execution_count": 26,
   "metadata": {},
   "outputs": [],
   "source": [
    "# Optionally, clean up the outputs.\n",
    "from pathlib import Path\n",
    "Path('data/runs/run.txt.gz').unlink()"
   ]
  },
  {
   "cell_type": "markdown",
   "metadata": {},
   "source": [
    "# Step 7: Improve\n",
    "\n",
    "Building your own index can be already one way that you can try to improve upon this baseline (if you want to focus on creating good document representations). Other ways could include reformulating queries or tuning parameters or building better retrieval pipelines."
   ]
  },
  {
   "cell_type": "markdown",
   "metadata": {},
   "source": []
  }
 ],
 "metadata": {
  "kernelspec": {
   "display_name": "venv",
   "language": "python",
   "name": "python3"
  },
  "language_info": {
   "codemirror_mode": {
    "name": "ipython",
    "version": 3
   },
   "file_extension": ".py",
   "mimetype": "text/x-python",
   "name": "python",
   "nbconvert_exporter": "python",
   "pygments_lexer": "ipython3",
   "version": "3.12.3"
  }
 },
 "nbformat": 4,
 "nbformat_minor": 2
}
